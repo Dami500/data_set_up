{
 "cells": [
  {
   "cell_type": "code",
   "execution_count": null,
   "id": "initial_id",
   "metadata": {
    "collapsed": true
   },
   "outputs": [],
   "source": [
    "\n",
    "import datetime\n",
    "import bs4\n",
    "import mysql.connector as msc\n",
    "import requests\n",
    "# Connect to the MySQL instance\n",
    "db_host = 'localhost'\n",
    "db_user = 'sec_user'\n",
    "db_pass = 'Damilare20$'\n",
    "db_name = 'securities_master'\n",
    "con = msc.connect(host=db_host, user=db_user, password=db_pass, db=db_name)"
   ]
  },
  {
   "metadata": {},
   "cell_type": "code",
   "outputs": [],
   "execution_count": null,
   "source": [
    "def obtain_parse_wiki_snp500():\n",
    "    \"\"\"\n",
    "    Download and parse the Wikipedia list of S&P500 constituents using requests and BeautifulSoup.\n",
    "    Returns a list of tuples for to add to MySQL.\n",
    "     \"\"\"\n",
    "    # Stores the current time, for the created_at record\n",
    "    now = datetime.datetime.now()\n",
    "    # Use requests and BeautifulSoup to download the list of S&P500 companies and obtain the symbol table\n",
    "    # list of S&P500 companies and obtain the symbol table\n",
    "    response = requests.get(\"http://en.wikipedia.org/wiki/List_of_S%26P_500_companies\")\n",
    "    soup = bs4.BeautifulSoup(response.text, features=\"lxml\")\n",
    "    # This selects the first table, using CSS Selector syntax and then ignores the header row ([1:])\n",
    "    symbols_list = soup.select('table')[0].select('tr')[1:]\n",
    "    # Obtain the symbol information for each row in the S&P500 constituent table\n",
    "    sign = []\n",
    "    for i, symbol in enumerate(symbols_list):\n",
    "        tds = symbol.select('td')\n",
    "        sign.append(\n",
    "            (\n",
    "                tds[0].select('a')[0].text,       # Ticker\n",
    "                'stock',\n",
    "                tds[1].select('a')[0].text,  # Name\n",
    "                tds[3].text,         # sector\n",
    "                'USD', now, now\n",
    "            )\n",
    "        )\n",
    "    return sign"
   ],
   "id": "b0786eed548d1c53"
  },
  {
   "metadata": {},
   "cell_type": "code",
   "outputs": [],
   "execution_count": null,
   "source": [
    "def insert_snp500_symbols(sign):\n",
    "    \"\"\"\n",
    "    Insert the S&P500 symbols into the MySQL database.\n",
    "    \"\"\"\n",
    "    # Create the insert strings\n",
    "    insert_str = \"\"\" INSERT INTO securities_master.‘symbol‘ (securities_master.‘symbol‘.‘ticker‘,\n",
    "    securities_master.‘symbol‘.‘instrument‘,securities_master.‘symbol‘.‘name‘, securities_master.‘symbol‘.‘sector‘,\n",
    "    securities_master.‘symbol‘.‘currency‘,securities_master.‘symbol‘.‘created_date‘,\n",
    "    securities_master.‘symbol‘.‘last_updated_date‘) VALUES (%s, %s, %s, %s, %s, %s, %s);\n",
    "    \"\"\"\n",
    "    # Using the MySQL connection, carry out\n",
    "    # an INSERT INTO for every symbol\n",
    "    with con:\n",
    "        cur = con.cursor()\n",
    "        cur.executemany(insert_str, sign[1:503])\n",
    "        con.commit()"
   ],
   "id": "1356697569e65f1a"
  },
  {
   "metadata": {},
   "cell_type": "code",
   "outputs": [],
   "execution_count": null,
   "source": [
    "# if __name__ == \"__main__\":\n",
    "#     sign = obtain_parse_wiki_snp500()\n",
    "#     insert_snp500_symbols(sign[0:503])\n",
    "#     print(\"%s symbols were successfully added.\" % len(sign))"
   ],
   "id": "eb65aa10f6859530"
  }
 ],
 "metadata": {
  "kernelspec": {
   "display_name": "Python 3",
   "language": "python",
   "name": "python3"
  },
  "language_info": {
   "codemirror_mode": {
    "name": "ipython",
    "version": 2
   },
   "file_extension": ".py",
   "mimetype": "text/x-python",
   "name": "python",
   "nbconvert_exporter": "python",
   "pygments_lexer": "ipython2",
   "version": "2.7.6"
  }
 },
 "nbformat": 4,
 "nbformat_minor": 5
}
