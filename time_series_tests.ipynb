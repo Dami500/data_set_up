{
 "cells": [
  {
   "cell_type": "code",
   "id": "initial_id",
   "metadata": {
    "collapsed": true,
    "ExecuteTime": {
     "end_time": "2024-11-06T16:15:19.650514Z",
     "start_time": "2024-11-06T16:15:12.159918Z"
    }
   },
   "source": [
    "import statsmodels.api as sm\n",
    "from matplotlib.pyplot import scatter\n",
    "from statsmodels.tsa import stattools as ts\n",
    "import pandas as pd\n",
    "from pandas import Timestamp\n",
    "import mysql.connector as msc\n",
    "import numpy as np\n",
    "from numpy import cumsum, log, polyfit, sqrt, std, subtract\n",
    "from numpy.random import randn\n",
    "import matplotlib.pyplot as plt\n",
    "import matplotlib.dates as mdates\n",
    "import datetime"
   ],
   "outputs": [],
   "execution_count": 2
  },
  {
   "metadata": {
    "ExecuteTime": {
     "end_time": "2024-11-06T16:15:53.051623Z",
     "start_time": "2024-11-06T16:15:53.013676Z"
    }
   },
   "cell_type": "code",
   "source": [
    "db_host = 'localhost'\n",
    "db_user = 'sec_user'\n",
    "db_pass = 'Damilare20$'\n",
    "db_name = 'securities_master'\n",
    "plug ='caching_sha2_password'\n",
    "con = msc.connect(host=db_host, user=db_user, password=db_pass, db=db_name, auth_plugin= plug)\n",
    "if con is not None:\n",
    "    print('Successfully Connected!')"
   ],
   "id": "dc0c23f40b9333f7",
   "outputs": [
    {
     "name": "stdout",
     "output_type": "stream",
     "text": [
      "Successfully Connected!\n"
     ]
    }
   ],
   "execution_count": 4
  },
  {
   "metadata": {},
   "cell_type": "code",
   "outputs": [],
   "execution_count": null,
   "source": [
    "def obtain_data_from_sec_master(symbol_id, start, end):\n",
    "    \"\"\"\n",
    "    return data from Sec Master into a pandas dataframe\n",
    "    parse dates\n",
    "    \"\"\"\n",
    "    select_str = \"\"\" select distinct securities_master.daily_price.price_date as date, \n",
    "    securities_master.daily_price.close_price as close_price\n",
    "    from securities_master.daily_price\n",
    "    where securities_master.daily_price.symbol_id = %s and securities_master.daily_price.price_date >= %s and \n",
    "    securities_master.daily_price.price_date <= %s\n",
    "    \"\"\" % (symbol_id, start, end)\n",
    "    data = pd.read_sql_query(select_str, con, parse_dates = {\"date\": '%Y%m%d %H:%M:%S'})\n",
    "    data = data.rename(columns = {\"close_price\": \"%s\" % symbol_id})\n",
    "    return data.dropna()"
   ],
   "id": "81554a47edd42e99"
  },
  {
   "metadata": {},
   "cell_type": "code",
   "outputs": [],
   "execution_count": null,
   "source": [
    "def adf_test(data):\n",
    "    \"\"\"\n",
    "    print out the results of the augmented dickey fuller test and change the numpy_int64 values to regular ints\n",
    "    \"\"\"\n",
    "    results = list(ts.adfuller(data, 1))\n",
    "    results[0] = float(results[0])\n",
    "    results[1] = float(results[1])\n",
    "    results[5] = float(results[5])\n",
    "    for value in results[4]:\n",
    "        results[4][value] = float(results[4][value])\n",
    "    return tuple(results)"
   ],
   "id": "56ad490eb1f5dc7f"
  },
  {
   "metadata": {},
   "cell_type": "code",
   "outputs": [],
   "execution_count": null,
   "source": [
    "def hurst(ts):\n",
    "    \"\"\"Returns the Hurst Exponent of the time series vector ts\"\"\"\n",
    "    # Create the range of lag values\n",
    "    lags = range(2, 100)\n",
    "    # Calculate the array of the variances of the lagged differences\n",
    "    tau = [sqrt(std(subtract(ts[lag:], ts[:-lag]))) for lag in lags]\n",
    "    # Use a linear fit to estimate the Hurst Exponent\n",
    "    poly = polyfit(log(lags), log(tau), 1)\n",
    "    # Return the Hurst exponent from the polyfit output\n",
    "    return poly[0]*2.0"
   ],
   "id": "66afdb43cee10f44"
  },
  {
   "metadata": {},
   "cell_type": "code",
   "outputs": [],
   "execution_count": null,
   "source": [
    "def plot_pairs_price_series(df, column_1, column_2):\n",
    "    \"\"\"price_series, takes a pandas DataFrame as input, with two columns\n",
    "    given by the placeholder strings \"ts1\" and \"ts2\". These will be our pairs equities. The function\n",
    "    simply plots the two price series on the same chart\"\"\"\n",
    "    months = mdates.MonthLocator()  # every month\n",
    "    fig, ax = plt.subplots()\n",
    "    ax.plot(df['date'], df[column_1], label= column_1)\n",
    "    ax.plot(df['date'], df[column_2], label=column_2)\n",
    "    ax.xaxis.set_major_locator(months)\n",
    "    ax.xaxis.set_major_formatter(mdates.DateFormatter('%b %Y'))\n",
    "    ax.set_xlim(datetime.datetime(2023, 1, 1), datetime.datetime(2024, 5, 12))\n",
    "    ax.grid(True)\n",
    "    fig.autofmt_xdate()\n",
    "    plt.xlabel('Month / Year')\n",
    "    plt.ylabel('Price($)')\n",
    "    plt.title('%s and %s Daily Prices' % (column_1, column_2))\n",
    "    plt.legend()\n",
    "    plt.show()"
   ],
   "id": "a599e3966d7d3d0"
  },
  {
   "metadata": {},
   "cell_type": "code",
   "outputs": [],
   "execution_count": null,
   "source": [
    "def scatter_plot_pairs(df, column_1, column_2):\n",
    "    plt.xlabel('%s Price($)' % column_1)\n",
    "    plt.ylabel('%s Price($)' % column_2)\n",
    "    plt.title('%s and %s Price Scatterplot' % (column_1, column_2))\n",
    "    plt.scatter(df[column_1], df[column_2])\n",
    "    plt.show()\n"
   ],
   "id": "158f0bedd587d1fe"
  },
  {
   "metadata": {},
   "cell_type": "code",
   "outputs": [],
   "execution_count": null,
   "source": [
    "def plot_residuals(df):\n",
    "    months = mdates.MonthLocator() # every month\n",
    "    fig, ax = plt.subplots()\n",
    "    ax.plot(df['date'], df[\"res\"], label=\"Residuals\")\n",
    "    ax.xaxis.set_major_locator(months)\n",
    "    ax.xaxis.set_major_formatter(mdates.DateFormatter('%b %Y'))\n",
    "    ax.set_xlim(datetime.datetime(2023, 1, 1), datetime.datetime(2024, 5,12))\n",
    "    ax.grid(True)\n",
    "    fig.autofmt_xdate()\n",
    "    plt.xlabel('Month/Year')\n",
    "    plt.ylabel('Price ($)')\n",
    "    plt.title('Residual Plot')\n",
    "    plt.legend()\n",
    "    plt.plot(df['res'])\n",
    "    plt.show()"
   ],
   "id": "ce3546b3930674a8"
  },
  {
   "metadata": {},
   "cell_type": "code",
   "outputs": [],
   "execution_count": null,
   "source": [
    "if __name__ == \"__main__\":\n",
    "    WMB = obtain_data_from_sec_master('10042')\n",
    "    KMI = obtain_data_from_sec_master('9827')\n",
    "    df = pd.merge(WMB, KMI, how='inner', on = \"date\")\n",
    "    # Plot the two time series\n",
    "    plot_pairs_price_series(df, \"9827\", \"10042\")\n",
    "    # Display a scatter plot of the two time series\n",
    "    scatter_plot_pairs(df, \"9827\", \"10042\")\n",
    "    # Calculate optimal hedge ratio \"beta\"\n",
    "    res = ts.OLS(endog=df['10042'], exog = sm.add_constant(df[\"9827\"]))\n",
    "    beta = res.fit()\n",
    "    beta_hr = beta.params.iloc[1]\n",
    "    # Calculate the residuals of the linear combination\n",
    "    df[\"res\"] = df[\"10042\"] - beta_hr * df[\"9827\"]\n",
    "    print(df)\n",
    "    # Plot the residuals\n",
    "    plot_residuals(df)\n",
    "    # Calculate and output the CADF test on the residuals\n",
    "    cadf = adf_test(df['res'])\n",
    "    print(cadf)"
   ],
   "id": "ab992a93008acb5b"
  }
 ],
 "metadata": {
  "kernelspec": {
   "display_name": "Python 3",
   "language": "python",
   "name": "python3"
  },
  "language_info": {
   "codemirror_mode": {
    "name": "ipython",
    "version": 2
   },
   "file_extension": ".py",
   "mimetype": "text/x-python",
   "name": "python",
   "nbconvert_exporter": "python",
   "pygments_lexer": "ipython2",
   "version": "2.7.6"
  }
 },
 "nbformat": 4,
 "nbformat_minor": 5
}
