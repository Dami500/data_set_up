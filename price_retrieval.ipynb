{
 "cells": [
  {
   "cell_type": "code",
   "id": "initial_id",
   "metadata": {
    "collapsed": true,
    "ExecuteTime": {
     "end_time": "2024-11-07T02:20:50.083Z",
     "start_time": "2024-11-07T02:20:49.935922Z"
    }
   },
   "source": [
    "import datetime\n",
    "import warnings\n",
    "import mysql.connector as msc\n",
    "import yfinance as yf\n",
    "import numpy\n",
    "from pandas import Timestamp\n",
    "warnings.filterwarnings('ignore')\n",
    "# Obtain a database connection to the MySQL instance\n",
    "\n",
    "db_host = 'localhost'\n",
    "db_user = 'sec_user'\n",
    "db_pass = 'Damilare20$'\n",
    "db_name = 'securities_master'\n",
    "plug ='caching_sha2_password'\n",
    "con = msc.connect(host=db_host, user=db_user, password=db_pass, db=db_name, auth_plugin= plug)"
   ],
   "outputs": [],
   "execution_count": 3
  },
  {
   "metadata": {
    "ExecuteTime": {
     "end_time": "2024-11-07T02:20:50.134399Z",
     "start_time": "2024-11-07T02:20:50.108023Z"
    }
   },
   "cell_type": "code",
   "source": [
    "def obtain_list_of_db_tickers():\n",
    "    \"\"\"\n",
    "    Obtains a list of the ticker symbols in the database.\n",
    "    \"\"\"\n",
    "    con = msc.connect(host=db_host, user=db_user, passwd=db_pass, db=db_name, connect_timeout=28800)\n",
    "    with con:\n",
    "        cur = con.cursor()\n",
    "        cur.execute(\"\"\"SELECT securities_master.symbol.id, securities_master.symbol.ticker\n",
    "        FROM securities_master.symbol \"\"\")\n",
    "        data = cur.fetchall()\n",
    "        return data\n",
    "\n",
    "def convert_numpy_int_to_int(obj):\n",
    "    for x in range(len(obj)):\n",
    "        for y in range(len(obj[0])):\n",
    "            if isinstance(obj[x][y], numpy.int64):\n",
    "                obj[x] = list(obj[x])\n",
    "                obj[x][y] = int(obj[x][y])\n",
    "                obj[x] = tuple(obj[x])\n",
    "            else:\n",
    "                pass\n",
    "    return obj\n",
    "\n",
    "\n",
    "def get_daily_historic_data_yahoo(ticker, start_date=datetime.datetime(2001, 1, 1), end_date=datetime.date.today()):\n",
    "    \"\"\"\n",
    "    Obtains data from Yahoo Finance returns and a list of tuples.\n",
    "    ticker: Yahoo Finance ticker symbol, e.g. \"GOOG\" for Google, Inc.\n",
    "    start_date: Start date in (YYYY, M, D) format\n",
    "    end_date: End date in (YYYY, M, D) format\n",
    "    \"\"\"\n",
    "    # Create ticker object\n",
    "    ticker = yf.Ticker(ticker)\n",
    "    h_df = ticker.history(start=start_date, end=end_date, interval='1d')\n",
    "    h_df.reset_index(inplace = True)\n",
    "    prices = []\n",
    "    for p in range(h_df.shape[0]):\n",
    "        tup = (h_df.iloc[p, 0], h_df.iloc[p, 1], h_df.iloc[p, 2], h_df.iloc[p, 3], h_df.iloc[p, 4], h_df.iloc[p, 5],\n",
    "               h_df.iloc[p, 6], h_df.iloc[p, 7])\n",
    "        prices.append(tup)\n",
    "    return prices\n",
    "\n",
    "\n",
    "def convert_to_daily_data(data_vendor_id, symbol_id, data):\n",
    "    now = datetime.datetime.now()\n",
    "    records = []\n",
    "    for tup in data:\n",
    "        new_tup = (data_vendor_id, symbol_id, tup[0], now, now, tup[1], tup[2], tup[3], tup[4], tup[5], tup[6])\n",
    "        records.append(new_tup)\n",
    "    return records\n",
    "\n",
    "\n",
    "def update_the_pricing_data(data_vendor_id, symbol_id, data):\n",
    "    now = datetime.datetime.now()\n",
    "    records = []\n",
    "    for tup in data:\n",
    "        if tup(0) >= Timestamp('2024-07-10 00:00:00-0400', tz='America/New_York'):\n",
    "            new = (data_vendor_id, symbol_id, tup[0], now, now, tup[1], tup[2], tup[3], tup[4], tup[5], tup[6])\n",
    "            records.append(new)\n",
    "    return records\n",
    "\n",
    "def insert_daily_data_into_db(daily_data):\n",
    "    \"\"\"\n",
    "    Takes a list of tuples of daily data and adds it to the\n",
    "    MySQL database. Appends the vendor ID and symbol ID to the data.\n",
    "    daily_data: List of tuples of the OHLC data (with\n",
    "    adj_close and volume)\n",
    "    \"\"\"\n",
    "    # Create the insert strings\n",
    "    insert_str = \"\"\" INSERT INTO securities_master.daily_price\n",
    "    (securities_master.daily_price.data_vendor_id, securities_master.daily_price.symbol_id,\n",
    "    securities_master.daily_price.price_date, securities_master.daily_price.created_date,\n",
    "    securities_master.daily_price.last_updated_date, securities_master.daily_price.open_price,\n",
    "    securities_master.daily_price.high_price, securities_master.daily_price.low_price, \n",
    "    securities_master.daily_price.close_price, securities_master.daily_price.volume, \n",
    "    securities_master.daily_price.split) VALUES (%s, %s, %s, %s, %s, %s, %s, %s, %s, %s, %s)\n",
    "    \"\"\"\n",
    "    # Using the MySQL connection, carry out an INSERT INTO for every symbol\n",
    "    con = msc.connect(host=db_host, user=db_user, passwd=db_pass, db=db_name, connect_timeout=28800)\n",
    "    with con:\n",
    "        cur = con.cursor()\n",
    "        cur.executemany(insert_str, daily_data)\n",
    "        con.commit()\n"
   ],
   "id": "583789162939eb8b",
   "outputs": [],
   "execution_count": 4
  },
  {
   "metadata": {
    "ExecuteTime": {
     "end_time": "2024-11-07T02:34:59.586385Z",
     "start_time": "2024-11-07T02:34:53.192510Z"
    }
   },
   "cell_type": "code",
   "source": [
    "# data =  get_daily_historic_data_yahoo('SPY', start_date=datetime.datetime(2001, 1, 1), end_date=datetime.date.today())\n",
    "# dyf_data = convert_numpy_int_to_int(data)\n",
    "# new_data = convert_to_daily_data('1',503, dyf_data)\n",
    "# insert_daily_data_into_db(new_data)\n",
    "# print('successful')"
   ],
   "id": "7f150d920d3b6ed0",
   "outputs": [
    {
     "name": "stdout",
     "output_type": "stream",
     "text": [
      "successful\n"
     ]
    }
   ],
   "execution_count": 17
  },
  {
   "metadata": {
    "ExecuteTime": {
     "end_time": "2024-11-07T02:29:58.411267Z",
     "start_time": "2024-11-07T02:29:58.264559Z"
    }
   },
   "cell_type": "code",
   "source": [
    "# if __name__ == \"__main__\":\n",
    "#     # This ignores the warnings regarding Data Truncation\n",
    "#     # from the Yahoo precision to Decimal(19,4) datatypes\n",
    "#     warnings.filterwarnings('ignore')\n",
    "#     # Loop over the tickers and insert the daily historical\n",
    "#     # data into the database\n",
    "# tickers = obtain_list_of_db_tickers()\n",
    "# print(tickers)\n",
    "#     len_tickers = len(tickers)\n",
    "#     for i, t in enumerate(tickers):\n",
    "#         print(\"Adding data for %s: %s out of %s\" % (t[1], i+1, len_tickers))\n",
    "#         yf_data = get_daily_historic_data_yahoo(t[1])\n",
    "#         dyf_data = convert_numpy_int_to_int(yf_data)\n",
    "#         new_data = convert_to_daily_data('1', t[0], dyf_data)\n",
    "#         # new_data = update_the_pricing_data('1', t[0], dyf_data)\n",
    "#         insert_daily_data_into_db(new_data)\n",
    "#     print(\"Successfully added Yahoo Finance pricing data to DB.\")"
   ],
   "id": "37b8779791603459",
   "outputs": [
    {
     "name": "stdout",
     "output_type": "stream",
     "text": [
      "[(1, 'AOS'), (2, 'ABT'), (3, 'ABBV'), (4, 'ACN'), (5, 'ADBE'), (6, 'AMD'), (7, 'AES'), (8, 'AFL'), (9, 'A'), (10, 'APD'), (11, 'ABNB'), (12, 'AKAM'), (13, 'ALB'), (14, 'ARE'), (15, 'ALGN'), (16, 'ALLE'), (17, 'LNT'), (18, 'ALL'), (19, 'GOOGL'), (20, 'GOOG'), (21, 'MO'), (22, 'AMZN'), (23, 'AMCR'), (24, 'AMTM'), (25, 'AEE'), (26, 'AEP'), (27, 'AXP'), (28, 'AIG'), (29, 'AMT'), (30, 'AWK'), (31, 'AMP'), (32, 'AME'), (33, 'AMGN'), (34, 'APH'), (35, 'ADI'), (36, 'ANSS'), (37, 'AON'), (38, 'APA'), (39, 'AAPL'), (40, 'AMAT'), (41, 'APTV'), (42, 'ACGL'), (43, 'ADM'), (44, 'ANET'), (45, 'AJG'), (46, 'AIZ'), (47, 'T'), (48, 'ATO'), (49, 'ADSK'), (50, 'ADP'), (51, 'AZO'), (52, 'AVB'), (53, 'AVY'), (54, 'AXON'), (55, 'BKR'), (56, 'BALL'), (57, 'BAC'), (58, 'BAX'), (59, 'BDX'), (60, 'BRK.B'), (61, 'BBY'), (62, 'TECH'), (63, 'BIIB'), (64, 'BLK'), (65, 'BX'), (66, 'BK'), (67, 'BA'), (68, 'BKNG'), (69, 'BWA'), (70, 'BSX'), (71, 'BMY'), (72, 'AVGO'), (73, 'BR'), (74, 'BRO'), (75, 'BF.B'), (76, 'BLDR'), (77, 'BG'), (78, 'BXP'), (79, 'CHRW'), (80, 'CDNS'), (81, 'CZR'), (82, 'CPT'), (83, 'CPB'), (84, 'COF'), (85, 'CAH'), (86, 'KMX'), (87, 'CCL'), (88, 'CARR'), (89, 'CTLT'), (90, 'CAT'), (91, 'CBOE'), (92, 'CBRE'), (93, 'CDW'), (94, 'CE'), (95, 'COR'), (96, 'CNC'), (97, 'CNP'), (98, 'CF'), (99, 'CRL'), (100, 'SCHW'), (101, 'CHTR'), (102, 'CVX'), (103, 'CMG'), (104, 'CB'), (105, 'CHD'), (106, 'CI'), (107, 'CINF'), (108, 'CTAS'), (109, 'CSCO'), (110, 'C'), (111, 'CFG'), (112, 'CLX'), (113, 'CME'), (114, 'CMS'), (115, 'KO'), (116, 'CTSH'), (117, 'CL'), (118, 'CMCSA'), (119, 'CAG'), (120, 'COP'), (121, 'ED'), (122, 'STZ'), (123, 'CEG'), (124, 'COO'), (125, 'CPRT'), (126, 'GLW'), (127, 'CPAY'), (128, 'CTVA'), (129, 'CSGP'), (130, 'COST'), (131, 'CTRA'), (132, 'CRWD'), (133, 'CCI'), (134, 'CSX'), (135, 'CMI'), (136, 'CVS'), (137, 'DHR'), (138, 'DRI'), (139, 'DVA'), (140, 'DAY'), (141, 'DECK'), (142, 'DE'), (143, 'DELL'), (144, 'DAL'), (145, 'DVN'), (146, 'DXCM'), (147, 'FANG'), (148, 'DLR'), (149, 'DFS'), (150, 'DG'), (151, 'DLTR'), (152, 'D'), (153, 'DPZ'), (154, 'DOV'), (155, 'DOW'), (156, 'DHI'), (157, 'DTE'), (158, 'DUK'), (159, 'DD'), (160, 'EMN'), (161, 'ETN'), (162, 'EBAY'), (163, 'ECL'), (164, 'EIX'), (165, 'EW'), (166, 'EA'), (167, 'ELV'), (168, 'EMR'), (169, 'ENPH'), (170, 'ETR'), (171, 'EOG'), (172, 'EPAM'), (173, 'EQT'), (174, 'EFX'), (175, 'EQIX'), (176, 'EQR'), (177, 'ERIE'), (178, 'ESS'), (179, 'EL'), (180, 'EG'), (181, 'EVRG'), (182, 'ES'), (183, 'EXC'), (184, 'EXPE'), (185, 'EXPD'), (186, 'EXR'), (187, 'XOM'), (188, 'FFIV'), (189, 'FDS'), (190, 'FICO'), (191, 'FAST'), (192, 'FRT'), (193, 'FDX'), (194, 'FIS'), (195, 'FITB'), (196, 'FSLR'), (197, 'FE'), (198, 'FI'), (199, 'FMC'), (200, 'F'), (201, 'FTNT'), (202, 'FTV'), (203, 'FOXA'), (204, 'FOX'), (205, 'BEN'), (206, 'FCX'), (207, 'GRMN'), (208, 'IT'), (209, 'GE'), (210, 'GEHC'), (211, 'GEV'), (212, 'GEN'), (213, 'GNRC'), (214, 'GD'), (215, 'GIS'), (216, 'GM'), (217, 'GPC'), (218, 'GILD'), (219, 'GPN'), (220, 'GL'), (221, 'GDDY'), (222, 'GS'), (223, 'HAL'), (224, 'HIG'), (225, 'HAS'), (226, 'HCA'), (227, 'DOC'), (228, 'HSIC'), (229, 'HSY'), (230, 'HES'), (231, 'HPE'), (232, 'HLT'), (233, 'HOLX'), (234, 'HD'), (235, 'HON'), (236, 'HRL'), (237, 'HST'), (238, 'HWM'), (239, 'HPQ'), (240, 'HUBB'), (241, 'HUM'), (242, 'HBAN'), (243, 'HII'), (244, 'IBM'), (245, 'IEX'), (246, 'IDXX'), (247, 'ITW'), (248, 'INCY'), (249, 'IR'), (250, 'PODD'), (251, 'INTC'), (252, 'ICE'), (253, 'IFF'), (254, 'IP'), (255, 'IPG'), (256, 'INTU'), (257, 'ISRG'), (258, 'IVZ'), (259, 'INVH'), (260, 'IQV'), (261, 'IRM'), (262, 'JBHT'), (263, 'JBL'), (264, 'JKHY'), (265, 'J'), (266, 'JNJ'), (267, 'JCI'), (268, 'JPM'), (269, 'JNPR'), (270, 'K'), (271, 'KVUE'), (272, 'KDP'), (273, 'KEY'), (274, 'KEYS'), (275, 'KMB'), (276, 'KIM'), (277, 'KMI'), (278, 'KKR'), (279, 'KLAC'), (280, 'KHC'), (281, 'KR'), (282, 'LHX'), (283, 'LH'), (284, 'LRCX'), (285, 'LW'), (286, 'LVS'), (287, 'LDOS'), (288, 'LEN'), (289, 'LLY'), (290, 'LIN'), (291, 'LYV'), (292, 'LKQ'), (293, 'LMT'), (294, 'L'), (295, 'LOW'), (296, 'LULU'), (297, 'LYB'), (298, 'MTB'), (299, 'MRO'), (300, 'MPC'), (301, 'MKTX'), (302, 'MAR'), (303, 'MMC'), (304, 'MLM'), (305, 'MAS'), (306, 'MA'), (307, 'MTCH'), (308, 'MKC'), (309, 'MCD'), (310, 'MCK'), (311, 'MDT'), (312, 'MRK'), (313, 'META'), (314, 'MET'), (315, 'MTD'), (316, 'MGM'), (317, 'MCHP'), (318, 'MU'), (319, 'MSFT'), (320, 'MAA'), (321, 'MRNA'), (322, 'MHK'), (323, 'MOH'), (324, 'TAP'), (325, 'MDLZ'), (326, 'MPWR'), (327, 'MNST'), (328, 'MCO'), (329, 'MS'), (330, 'MOS'), (331, 'MSI'), (332, 'MSCI'), (333, 'NDAQ'), (334, 'NTAP'), (335, 'NFLX'), (336, 'NEM'), (337, 'NWSA'), (338, 'NWS'), (339, 'NEE'), (340, 'NKE'), (341, 'NI'), (342, 'NDSN'), (343, 'NSC'), (344, 'NTRS'), (345, 'NOC'), (346, 'NCLH'), (347, 'NRG'), (348, 'NUE'), (349, 'NVDA'), (350, 'NVR'), (351, 'NXPI'), (352, 'ORLY'), (353, 'OXY'), (354, 'ODFL'), (355, 'OMC'), (356, 'ON'), (357, 'OKE'), (358, 'ORCL'), (359, 'OTIS'), (360, 'PCAR'), (361, 'PKG'), (362, 'PLTR'), (363, 'PANW'), (364, 'PARA'), (365, 'PH'), (366, 'PAYX'), (367, 'PAYC'), (368, 'PYPL'), (369, 'PNR'), (370, 'PEP'), (371, 'PFE'), (372, 'PCG'), (373, 'PM'), (374, 'PSX'), (375, 'PNW'), (376, 'PNC'), (377, 'POOL'), (378, 'PPG'), (379, 'PPL'), (380, 'PFG'), (381, 'PG'), (382, 'PGR'), (383, 'PLD'), (384, 'PRU'), (385, 'PEG'), (386, 'PTC'), (387, 'PSA'), (388, 'PHM'), (389, 'QRVO'), (390, 'PWR'), (391, 'QCOM'), (392, 'DGX'), (393, 'RL'), (394, 'RJF'), (395, 'RTX'), (396, 'O'), (397, 'REG'), (398, 'REGN'), (399, 'RF'), (400, 'RSG'), (401, 'RMD'), (402, 'RVTY'), (403, 'ROK'), (404, 'ROL'), (405, 'ROP'), (406, 'ROST'), (407, 'RCL'), (408, 'SPGI'), (409, 'CRM'), (410, 'SBAC'), (411, 'SLB'), (412, 'STX'), (413, 'SRE'), (414, 'NOW'), (415, 'SHW'), (416, 'SPG'), (417, 'SWKS'), (418, 'SJM'), (419, 'SW'), (420, 'SNA'), (421, 'SOLV'), (422, 'SO'), (423, 'LUV'), (424, 'SWK'), (425, 'SBUX'), (426, 'STT'), (427, 'STLD'), (428, 'STE'), (429, 'SYK'), (430, 'SMCI'), (431, 'SYF'), (432, 'SNPS'), (433, 'SYY'), (434, 'TMUS'), (435, 'TROW'), (436, 'TTWO'), (437, 'TPR'), (438, 'TRGP'), (439, 'TGT'), (440, 'TEL'), (441, 'TDY'), (442, 'TFX'), (443, 'TER'), (444, 'TSLA'), (445, 'TXN'), (446, 'TXT'), (447, 'TMO'), (448, 'TJX'), (449, 'TSCO'), (450, 'TT'), (451, 'TDG'), (452, 'TRV'), (453, 'TRMB'), (454, 'TFC'), (455, 'TYL'), (456, 'TSN'), (457, 'USB'), (458, 'UBER'), (459, 'UDR'), (460, 'ULTA'), (461, 'UNP'), (462, 'UAL'), (463, 'UPS'), (464, 'URI'), (465, 'UNH'), (466, 'UHS'), (467, 'VLO'), (468, 'VTR'), (469, 'VLTO'), (470, 'VRSN'), (471, 'VRSK'), (472, 'VZ'), (473, 'VRTX'), (474, 'VTRS'), (475, 'VICI'), (476, 'V'), (477, 'VST'), (478, 'VMC'), (479, 'WRB'), (480, 'GWW'), (481, 'WAB'), (482, 'WBA'), (483, 'WMT'), (484, 'DIS'), (485, 'WBD'), (486, 'WM'), (487, 'WAT'), (488, 'WEC'), (489, 'WFC'), (490, 'WELL'), (491, 'WST'), (492, 'WDC'), (493, 'WY'), (494, 'WMB'), (495, 'WTW'), (496, 'WYNN'), (497, 'XEL'), (498, 'XYL'), (499, 'YUM'), (500, 'ZBRA'), (501, 'ZBH'), (502, 'ZTS'), (503, 'SPY')]\n"
     ]
    }
   ],
   "execution_count": 13
  }
 ],
 "metadata": {
  "kernelspec": {
   "display_name": "Python 3",
   "language": "python",
   "name": "python3"
  },
  "language_info": {
   "codemirror_mode": {
    "name": "ipython",
    "version": 2
   },
   "file_extension": ".py",
   "mimetype": "text/x-python",
   "name": "python",
   "nbconvert_exporter": "python",
   "pygments_lexer": "ipython2",
   "version": "2.7.6"
  }
 },
 "nbformat": 4,
 "nbformat_minor": 5
}
