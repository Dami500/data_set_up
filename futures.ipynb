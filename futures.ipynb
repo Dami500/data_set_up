{
 "cells": [
  {
   "cell_type": "code",
   "execution_count": null,
   "id": "initial_id",
   "metadata": {
    "collapsed": true
   },
   "outputs": [],
   "source": [
    "from __future__ import print_function\n",
    "import matplotlib.pyplot as plt\n",
    "import pandas as pd\n",
    "import seaborn as sns"
   ]
  },
  {
   "metadata": {},
   "cell_type": "code",
   "outputs": [],
   "execution_count": null,
   "source": [
    "historical_data = pd.read_csv('/home/damilare-ajayi-obe/Downloads/HistoricalData_1720804976799.csv',\n",
    "                              index_col = \"Date\", parse_dates = True)\n",
    "plt.figure(figsize=(20,60))\n",
    "sns.lineplot(data = historical_data['Close/Last'])\n",
    "sns.lineplot(data = historical_data['Low'])\n",
    "plt.show()\n",
    "print(historical_data)"
   ],
   "id": "928da5cdac7846cf"
  }
 ],
 "metadata": {
  "kernelspec": {
   "display_name": "Python 3",
   "language": "python",
   "name": "python3"
  },
  "language_info": {
   "codemirror_mode": {
    "name": "ipython",
    "version": 2
   },
   "file_extension": ".py",
   "mimetype": "text/x-python",
   "name": "python",
   "nbconvert_exporter": "python",
   "pygments_lexer": "ipython2",
   "version": "2.7.6"
  }
 },
 "nbformat": 4,
 "nbformat_minor": 5
}
