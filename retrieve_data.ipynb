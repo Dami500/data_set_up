{
 "cells": [
  {
   "metadata": {},
   "cell_type": "raw",
   "source": "",
   "id": "2396070f60797010"
  },
  {
   "cell_type": "code",
   "execution_count": null,
   "id": "initial_id",
   "metadata": {
    "collapsed": true
   },
   "outputs": [],
   "source": [
    "from __future__ import print_function\n",
    "import pandas as pd\n",
    "import mysql.connector as msc"
   ]
  },
  {
   "metadata": {},
   "cell_type": "code",
   "outputs": [],
   "execution_count": null,
   "source": [
    "if __name__ == \"__main__\":\n",
    "    # Connect to the MySQL instance\n",
    "    db_host = 'localhost'\n",
    "    db_user = 'sec_user'\n",
    "    db_pass = 'Damilare20$'\n",
    "    db_name = 'securities_master'\n",
    "    con = msc.connect(host=db_host, user=db_user, passwd=db_pass, db=db_name, connect_timeout=28800)\n",
    "    # Select all the historic Google adjusted close data\n",
    "    sql = \"\"\"SELECT dp.‘price_date‘, dp.‘close_price‘\n",
    "    FROM securities_master.‘daily_price‘ AS dp\n",
    "    INNER JOIN securities_master.‘symbol‘ AS sym\n",
    "    ON dp.‘symbol_id‘ = sym.‘id‘\n",
    "    ORDER BY dp.‘price_date‘ ASC;\n",
    "    \"\"\"\n",
    "    # Create a pandas dataframe from the SQL query\n",
    "    goog = pd.read_sql(sql, con= con)\n",
    "    print(goog.tail())\n"
   ],
   "id": "fee936be19584112"
  }
 ],
 "metadata": {
  "kernelspec": {
   "display_name": "Python 3",
   "language": "python",
   "name": "python3"
  },
  "language_info": {
   "codemirror_mode": {
    "name": "ipython",
    "version": 2
   },
   "file_extension": ".py",
   "mimetype": "text/x-python",
   "name": "python",
   "nbconvert_exporter": "python",
   "pygments_lexer": "ipython2",
   "version": "2.7.6"
  }
 },
 "nbformat": 4,
 "nbformat_minor": 5
}
