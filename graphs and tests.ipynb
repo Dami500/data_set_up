{
 "cells": [
  {
   "cell_type": "code",
   "execution_count": null,
   "id": "initial_id",
   "metadata": {
    "collapsed": true
   },
   "outputs": [],
   "source": [
    "import pandas\n",
    "import matplotlib.pyplot as plt\n",
    "import mysql.connector as msc\n",
    "import datetime\n",
    "import scipy.stats as stats\n",
    "from time_series_tests import obtain_data_from_sec_master"
   ]
  },
  {
   "metadata": {},
   "cell_type": "code",
   "outputs": [],
   "execution_count": null,
   "source": [
    "db_host = 'localhost'\n",
    "db_user = 'sec_user'\n",
    "db_pass = 'Damilare20$'\n",
    "db_name = 'securities_master'\n",
    "plug ='caching_sha2_password'\n",
    "con = msc.connect(host=db_host, user=db_user, password=db_pass, db=db_name, auth_plugin= plug)"
   ],
   "id": "267c33d04022ab5c"
  },
  {
   "metadata": {},
   "cell_type": "code",
   "outputs": [],
   "execution_count": null,
   "source": [
    "start_date = datetime.datetime(2024,8, 1)\n",
    "end_date = datetime.datetime(2024, 10, 31)\n",
    "security = 'GOOG'"
   ],
   "id": "bcb55a1cef9ec6cd"
  }
 ],
 "metadata": {
  "kernelspec": {
   "display_name": "Python 3",
   "language": "python",
   "name": "python3"
  },
  "language_info": {
   "codemirror_mode": {
    "name": "ipython",
    "version": 2
   },
   "file_extension": ".py",
   "mimetype": "text/x-python",
   "name": "python",
   "nbconvert_exporter": "python",
   "pygments_lexer": "ipython2",
   "version": "2.7.6"
  }
 },
 "nbformat": 4,
 "nbformat_minor": 5
}
